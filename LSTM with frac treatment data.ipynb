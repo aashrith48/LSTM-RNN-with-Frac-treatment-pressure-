{
 "cells": [
  {
   "cell_type": "code",
   "execution_count": 1,
   "metadata": {},
   "outputs": [],
   "source": [
    "import numpy as np\n",
    "import pandas as pd\n",
    "import matplotlib.pyplot as plt\n",
    "from sklearn.preprocessing import MinMaxScaler\n",
    "%matplotlib inline"
   ]
  },
  {
   "cell_type": "code",
   "execution_count": 2,
   "metadata": {},
   "outputs": [],
   "source": [
    "df= pd.read_excel('Frac_Stage_Data.xlsx')"
   ]
  },
  {
   "cell_type": "code",
   "execution_count": 3,
   "metadata": {},
   "outputs": [
    {
     "data": {
      "text/html": [
       "<div>\n",
       "<style scoped>\n",
       "    .dataframe tbody tr th:only-of-type {\n",
       "        vertical-align: middle;\n",
       "    }\n",
       "\n",
       "    .dataframe tbody tr th {\n",
       "        vertical-align: top;\n",
       "    }\n",
       "\n",
       "    .dataframe thead th {\n",
       "        text-align: right;\n",
       "    }\n",
       "</style>\n",
       "<table border=\"1\" class=\"dataframe\">\n",
       "  <thead>\n",
       "    <tr style=\"text-align: right;\">\n",
       "      <th></th>\n",
       "      <th>Time</th>\n",
       "      <th>SLUR RATE</th>\n",
       "      <th>PROP CON</th>\n",
       "      <th>TR PRESS</th>\n",
       "    </tr>\n",
       "  </thead>\n",
       "  <tbody>\n",
       "    <tr>\n",
       "      <th>0</th>\n",
       "      <td>1</td>\n",
       "      <td>49.4</td>\n",
       "      <td>0.0</td>\n",
       "      <td>8560</td>\n",
       "    </tr>\n",
       "    <tr>\n",
       "      <th>1</th>\n",
       "      <td>2</td>\n",
       "      <td>50.1</td>\n",
       "      <td>0.0</td>\n",
       "      <td>8537</td>\n",
       "    </tr>\n",
       "    <tr>\n",
       "      <th>2</th>\n",
       "      <td>3</td>\n",
       "      <td>50.1</td>\n",
       "      <td>0.0</td>\n",
       "      <td>8534</td>\n",
       "    </tr>\n",
       "    <tr>\n",
       "      <th>3</th>\n",
       "      <td>4</td>\n",
       "      <td>49.3</td>\n",
       "      <td>0.0</td>\n",
       "      <td>8617</td>\n",
       "    </tr>\n",
       "    <tr>\n",
       "      <th>4</th>\n",
       "      <td>5</td>\n",
       "      <td>49.2</td>\n",
       "      <td>0.0</td>\n",
       "      <td>8646</td>\n",
       "    </tr>\n",
       "    <tr>\n",
       "      <th>...</th>\n",
       "      <td>...</td>\n",
       "      <td>...</td>\n",
       "      <td>...</td>\n",
       "      <td>...</td>\n",
       "    </tr>\n",
       "    <tr>\n",
       "      <th>4595</th>\n",
       "      <td>4596</td>\n",
       "      <td>99.1</td>\n",
       "      <td>1.0</td>\n",
       "      <td>9194</td>\n",
       "    </tr>\n",
       "    <tr>\n",
       "      <th>4596</th>\n",
       "      <td>4597</td>\n",
       "      <td>99.0</td>\n",
       "      <td>1.0</td>\n",
       "      <td>9201</td>\n",
       "    </tr>\n",
       "    <tr>\n",
       "      <th>4597</th>\n",
       "      <td>4598</td>\n",
       "      <td>99.0</td>\n",
       "      <td>1.0</td>\n",
       "      <td>9184</td>\n",
       "    </tr>\n",
       "    <tr>\n",
       "      <th>4598</th>\n",
       "      <td>4599</td>\n",
       "      <td>99.3</td>\n",
       "      <td>1.0</td>\n",
       "      <td>9178</td>\n",
       "    </tr>\n",
       "    <tr>\n",
       "      <th>4599</th>\n",
       "      <td>4600</td>\n",
       "      <td>99.0</td>\n",
       "      <td>1.0</td>\n",
       "      <td>9188</td>\n",
       "    </tr>\n",
       "  </tbody>\n",
       "</table>\n",
       "<p>4600 rows × 4 columns</p>\n",
       "</div>"
      ],
      "text/plain": [
       "      Time  SLUR RATE  PROP CON  TR PRESS\n",
       "0        1       49.4       0.0      8560\n",
       "1        2       50.1       0.0      8537\n",
       "2        3       50.1       0.0      8534\n",
       "3        4       49.3       0.0      8617\n",
       "4        5       49.2       0.0      8646\n",
       "...    ...        ...       ...       ...\n",
       "4595  4596       99.1       1.0      9194\n",
       "4596  4597       99.0       1.0      9201\n",
       "4597  4598       99.0       1.0      9184\n",
       "4598  4599       99.3       1.0      9178\n",
       "4599  4600       99.0       1.0      9188\n",
       "\n",
       "[4600 rows x 4 columns]"
      ]
     },
     "execution_count": 3,
     "metadata": {},
     "output_type": "execute_result"
    }
   ],
   "source": [
    "df"
   ]
  },
  {
   "cell_type": "code",
   "execution_count": 4,
   "metadata": {},
   "outputs": [
    {
     "data": {
      "text/plain": [
       "Text(0, 0.5, 'Slurry Rate (bpm))')"
      ]
     },
     "execution_count": 4,
     "metadata": {},
     "output_type": "execute_result"
    },
    {
     "data": {
      "image/png": "[encoded data removed]",
      "text/plain": [
       "<Figure size 1080x576 with 2 Axes>"
      ]
     },
     "metadata": {
      "needs_background": "light"
     },
     "output_type": "display_data"
    },
    {
     "data": {
      "text/plain": [
       "<Figure size 1080x576 with 0 Axes>"
      ]
     },
     "metadata": {},
     "output_type": "display_data"
    }
   ],
   "source": [
    "fig, ax = plt.subplots(figsize=(15,8))\n",
    "plt.figure(figsize=(15,8))\n",
    "ax1 = ax.twinx()\n",
    "\n",
    "ax.plot(df['Time'], df['TR PRESS'], 'b')\n",
    "ax1.plot(df['Time'], df['SLUR RATE'], 'g')\n",
    "\n",
    "\n",
    "ax.set_xlabel('Time (seconds)')\n",
    "ax.set_ylabel('Surface Treating Pressure (psi)', color='b')\n",
    "ax1.set_ylabel('Slurry Rate (bpm))', color='g')"
   ]
  },
  {
   "cell_type": "code",
   "execution_count": 5,
   "metadata": {},
   "outputs": [
    {
     "data": {
      "text/html": [
       "<div>\n",
       "<style scoped>\n",
       "    .dataframe tbody tr th:only-of-type {\n",
       "        vertical-align: middle;\n",
       "    }\n",
       "\n",
       "    .dataframe tbody tr th {\n",
       "        vertical-align: top;\n",
       "    }\n",
       "\n",
       "    .dataframe thead th {\n",
       "        text-align: right;\n",
       "    }\n",
       "</style>\n",
       "<table border=\"1\" class=\"dataframe\">\n",
       "  <thead>\n",
       "    <tr style=\"text-align: right;\">\n",
       "      <th></th>\n",
       "      <th>Time</th>\n",
       "      <th>SLUR RATE</th>\n",
       "      <th>PROP CON</th>\n",
       "      <th>TR PRESS</th>\n",
       "    </tr>\n",
       "  </thead>\n",
       "  <tbody>\n",
       "    <tr>\n",
       "      <th>1</th>\n",
       "      <td>2</td>\n",
       "      <td>50.1</td>\n",
       "      <td>0.0</td>\n",
       "      <td>8537</td>\n",
       "    </tr>\n",
       "    <tr>\n",
       "      <th>2</th>\n",
       "      <td>3</td>\n",
       "      <td>50.1</td>\n",
       "      <td>0.0</td>\n",
       "      <td>8534</td>\n",
       "    </tr>\n",
       "    <tr>\n",
       "      <th>3</th>\n",
       "      <td>4</td>\n",
       "      <td>49.3</td>\n",
       "      <td>0.0</td>\n",
       "      <td>8617</td>\n",
       "    </tr>\n",
       "    <tr>\n",
       "      <th>4</th>\n",
       "      <td>5</td>\n",
       "      <td>49.2</td>\n",
       "      <td>0.0</td>\n",
       "      <td>8646</td>\n",
       "    </tr>\n",
       "    <tr>\n",
       "      <th>5</th>\n",
       "      <td>6</td>\n",
       "      <td>48.7</td>\n",
       "      <td>0.0</td>\n",
       "      <td>8667</td>\n",
       "    </tr>\n",
       "    <tr>\n",
       "      <th>...</th>\n",
       "      <td>...</td>\n",
       "      <td>...</td>\n",
       "      <td>...</td>\n",
       "      <td>...</td>\n",
       "    </tr>\n",
       "    <tr>\n",
       "      <th>4495</th>\n",
       "      <td>4496</td>\n",
       "      <td>98.7</td>\n",
       "      <td>1.0</td>\n",
       "      <td>9127</td>\n",
       "    </tr>\n",
       "    <tr>\n",
       "      <th>4496</th>\n",
       "      <td>4497</td>\n",
       "      <td>98.8</td>\n",
       "      <td>1.0</td>\n",
       "      <td>9125</td>\n",
       "    </tr>\n",
       "    <tr>\n",
       "      <th>4497</th>\n",
       "      <td>4498</td>\n",
       "      <td>98.5</td>\n",
       "      <td>1.0</td>\n",
       "      <td>9131</td>\n",
       "    </tr>\n",
       "    <tr>\n",
       "      <th>4498</th>\n",
       "      <td>4499</td>\n",
       "      <td>98.4</td>\n",
       "      <td>1.0</td>\n",
       "      <td>9136</td>\n",
       "    </tr>\n",
       "    <tr>\n",
       "      <th>4499</th>\n",
       "      <td>4500</td>\n",
       "      <td>98.6</td>\n",
       "      <td>1.0</td>\n",
       "      <td>9145</td>\n",
       "    </tr>\n",
       "  </tbody>\n",
       "</table>\n",
       "<p>4499 rows × 4 columns</p>\n",
       "</div>"
      ],
      "text/plain": [
       "      Time  SLUR RATE  PROP CON  TR PRESS\n",
       "1        2       50.1       0.0      8537\n",
       "2        3       50.1       0.0      8534\n",
       "3        4       49.3       0.0      8617\n",
       "4        5       49.2       0.0      8646\n",
       "5        6       48.7       0.0      8667\n",
       "...    ...        ...       ...       ...\n",
       "4495  4496       98.7       1.0      9127\n",
       "4496  4497       98.8       1.0      9125\n",
       "4497  4498       98.5       1.0      9131\n",
       "4498  4499       98.4       1.0      9136\n",
       "4499  4500       98.6       1.0      9145\n",
       "\n",
       "[4499 rows x 4 columns]"
      ]
     },
     "execution_count": 5,
     "metadata": {},
     "output_type": "execute_result"
    }
   ],
   "source": [
    "start_time = 1\n",
    "end_time = 4500\n",
    "filter = (df['Time'] > start_time) & (df['Time'] <= end_time)\n",
    "df_training = df.loc[filter].copy()\n",
    "df_training"
   ]
  },
  {
   "cell_type": "code",
   "execution_count": 6,
   "metadata": {},
   "outputs": [
    {
     "data": {
      "text/html": [
       "<div>\n",
       "<style scoped>\n",
       "    .dataframe tbody tr th:only-of-type {\n",
       "        vertical-align: middle;\n",
       "    }\n",
       "\n",
       "    .dataframe tbody tr th {\n",
       "        vertical-align: top;\n",
       "    }\n",
       "\n",
       "    .dataframe thead th {\n",
       "        text-align: right;\n",
       "    }\n",
       "</style>\n",
       "<table border=\"1\" class=\"dataframe\">\n",
       "  <thead>\n",
       "    <tr style=\"text-align: right;\">\n",
       "      <th></th>\n",
       "      <th>Time</th>\n",
       "      <th>SLUR RATE</th>\n",
       "      <th>PROP CON</th>\n",
       "      <th>TR PRESS</th>\n",
       "    </tr>\n",
       "  </thead>\n",
       "  <tbody>\n",
       "    <tr>\n",
       "      <th>4500</th>\n",
       "      <td>4501</td>\n",
       "      <td>98.4</td>\n",
       "      <td>1.0</td>\n",
       "      <td>9120</td>\n",
       "    </tr>\n",
       "    <tr>\n",
       "      <th>4501</th>\n",
       "      <td>4502</td>\n",
       "      <td>98.6</td>\n",
       "      <td>1.0</td>\n",
       "      <td>9133</td>\n",
       "    </tr>\n",
       "    <tr>\n",
       "      <th>4502</th>\n",
       "      <td>4503</td>\n",
       "      <td>98.7</td>\n",
       "      <td>1.0</td>\n",
       "      <td>9131</td>\n",
       "    </tr>\n",
       "    <tr>\n",
       "      <th>4503</th>\n",
       "      <td>4504</td>\n",
       "      <td>98.6</td>\n",
       "      <td>1.0</td>\n",
       "      <td>9125</td>\n",
       "    </tr>\n",
       "    <tr>\n",
       "      <th>4504</th>\n",
       "      <td>4505</td>\n",
       "      <td>98.6</td>\n",
       "      <td>1.0</td>\n",
       "      <td>9118</td>\n",
       "    </tr>\n",
       "    <tr>\n",
       "      <th>...</th>\n",
       "      <td>...</td>\n",
       "      <td>...</td>\n",
       "      <td>...</td>\n",
       "      <td>...</td>\n",
       "    </tr>\n",
       "    <tr>\n",
       "      <th>4595</th>\n",
       "      <td>4596</td>\n",
       "      <td>99.1</td>\n",
       "      <td>1.0</td>\n",
       "      <td>9194</td>\n",
       "    </tr>\n",
       "    <tr>\n",
       "      <th>4596</th>\n",
       "      <td>4597</td>\n",
       "      <td>99.0</td>\n",
       "      <td>1.0</td>\n",
       "      <td>9201</td>\n",
       "    </tr>\n",
       "    <tr>\n",
       "      <th>4597</th>\n",
       "      <td>4598</td>\n",
       "      <td>99.0</td>\n",
       "      <td>1.0</td>\n",
       "      <td>9184</td>\n",
       "    </tr>\n",
       "    <tr>\n",
       "      <th>4598</th>\n",
       "      <td>4599</td>\n",
       "      <td>99.3</td>\n",
       "      <td>1.0</td>\n",
       "      <td>9178</td>\n",
       "    </tr>\n",
       "    <tr>\n",
       "      <th>4599</th>\n",
       "      <td>4600</td>\n",
       "      <td>99.0</td>\n",
       "      <td>1.0</td>\n",
       "      <td>9188</td>\n",
       "    </tr>\n",
       "  </tbody>\n",
       "</table>\n",
       "<p>100 rows × 4 columns</p>\n",
       "</div>"
      ],
      "text/plain": [
       "      Time  SLUR RATE  PROP CON  TR PRESS\n",
       "4500  4501       98.4       1.0      9120\n",
       "4501  4502       98.6       1.0      9133\n",
       "4502  4503       98.7       1.0      9131\n",
       "4503  4504       98.6       1.0      9125\n",
       "4504  4505       98.6       1.0      9118\n",
       "...    ...        ...       ...       ...\n",
       "4595  4596       99.1       1.0      9194\n",
       "4596  4597       99.0       1.0      9201\n",
       "4597  4598       99.0       1.0      9184\n",
       "4598  4599       99.3       1.0      9178\n",
       "4599  4600       99.0       1.0      9188\n",
       "\n",
       "[100 rows x 4 columns]"
      ]
     },
     "execution_count": 6,
     "metadata": {},
     "output_type": "execute_result"
    }
   ],
   "source": [
    "start_time2 = 4500\n",
    "end_time2 = 4600\n",
    "filter2 = (df['Time'] > start_time2) & (df['Time'] <= end_time2)\n",
    "df_testing = df.loc[filter2].copy()\n",
    "df_testing"
   ]
  },
  {
   "cell_type": "code",
   "execution_count": 7,
   "metadata": {},
   "outputs": [
    {
     "data": {
      "text/html": [
       "<div>\n",
       "<style scoped>\n",
       "    .dataframe tbody tr th:only-of-type {\n",
       "        vertical-align: middle;\n",
       "    }\n",
       "\n",
       "    .dataframe tbody tr th {\n",
       "        vertical-align: top;\n",
       "    }\n",
       "\n",
       "    .dataframe thead th {\n",
       "        text-align: right;\n",
       "    }\n",
       "</style>\n",
       "<table border=\"1\" class=\"dataframe\">\n",
       "  <thead>\n",
       "    <tr style=\"text-align: right;\">\n",
       "      <th></th>\n",
       "      <th>SLUR RATE</th>\n",
       "      <th>PROP CON</th>\n",
       "      <th>TR PRESS</th>\n",
       "    </tr>\n",
       "  </thead>\n",
       "  <tbody>\n",
       "    <tr>\n",
       "      <th>1</th>\n",
       "      <td>50.1</td>\n",
       "      <td>0.0</td>\n",
       "      <td>8537</td>\n",
       "    </tr>\n",
       "    <tr>\n",
       "      <th>2</th>\n",
       "      <td>50.1</td>\n",
       "      <td>0.0</td>\n",
       "      <td>8534</td>\n",
       "    </tr>\n",
       "    <tr>\n",
       "      <th>3</th>\n",
       "      <td>49.3</td>\n",
       "      <td>0.0</td>\n",
       "      <td>8617</td>\n",
       "    </tr>\n",
       "    <tr>\n",
       "      <th>4</th>\n",
       "      <td>49.2</td>\n",
       "      <td>0.0</td>\n",
       "      <td>8646</td>\n",
       "    </tr>\n",
       "    <tr>\n",
       "      <th>5</th>\n",
       "      <td>48.7</td>\n",
       "      <td>0.0</td>\n",
       "      <td>8667</td>\n",
       "    </tr>\n",
       "    <tr>\n",
       "      <th>...</th>\n",
       "      <td>...</td>\n",
       "      <td>...</td>\n",
       "      <td>...</td>\n",
       "    </tr>\n",
       "    <tr>\n",
       "      <th>4495</th>\n",
       "      <td>98.7</td>\n",
       "      <td>1.0</td>\n",
       "      <td>9127</td>\n",
       "    </tr>\n",
       "    <tr>\n",
       "      <th>4496</th>\n",
       "      <td>98.8</td>\n",
       "      <td>1.0</td>\n",
       "      <td>9125</td>\n",
       "    </tr>\n",
       "    <tr>\n",
       "      <th>4497</th>\n",
       "      <td>98.5</td>\n",
       "      <td>1.0</td>\n",
       "      <td>9131</td>\n",
       "    </tr>\n",
       "    <tr>\n",
       "      <th>4498</th>\n",
       "      <td>98.4</td>\n",
       "      <td>1.0</td>\n",
       "      <td>9136</td>\n",
       "    </tr>\n",
       "    <tr>\n",
       "      <th>4499</th>\n",
       "      <td>98.6</td>\n",
       "      <td>1.0</td>\n",
       "      <td>9145</td>\n",
       "    </tr>\n",
       "  </tbody>\n",
       "</table>\n",
       "<p>4499 rows × 3 columns</p>\n",
       "</div>"
      ],
      "text/plain": [
       "      SLUR RATE  PROP CON  TR PRESS\n",
       "1          50.1       0.0      8537\n",
       "2          50.1       0.0      8534\n",
       "3          49.3       0.0      8617\n",
       "4          49.2       0.0      8646\n",
       "5          48.7       0.0      8667\n",
       "...         ...       ...       ...\n",
       "4495       98.7       1.0      9127\n",
       "4496       98.8       1.0      9125\n",
       "4497       98.5       1.0      9131\n",
       "4498       98.4       1.0      9136\n",
       "4499       98.6       1.0      9145\n",
       "\n",
       "[4499 rows x 3 columns]"
      ]
     },
     "execution_count": 7,
     "metadata": {},
     "output_type": "execute_result"
    }
   ],
   "source": [
    "training_data= df_training.drop(['Time'], axis=1)\n",
    "training_data"
   ]
  },
  {
   "cell_type": "code",
   "execution_count": 8,
   "metadata": {},
   "outputs": [
    {
     "data": {
      "text/html": [
       "<div>\n",
       "<style scoped>\n",
       "    .dataframe tbody tr th:only-of-type {\n",
       "        vertical-align: middle;\n",
       "    }\n",
       "\n",
       "    .dataframe tbody tr th {\n",
       "        vertical-align: top;\n",
       "    }\n",
       "\n",
       "    .dataframe thead th {\n",
       "        text-align: right;\n",
       "    }\n",
       "</style>\n",
       "<table border=\"1\" class=\"dataframe\">\n",
       "  <thead>\n",
       "    <tr style=\"text-align: right;\">\n",
       "      <th></th>\n",
       "      <th>SLUR RATE</th>\n",
       "      <th>PROP CON</th>\n",
       "      <th>TR PRESS</th>\n",
       "    </tr>\n",
       "  </thead>\n",
       "  <tbody>\n",
       "    <tr>\n",
       "      <th>0</th>\n",
       "      <td>0.027132</td>\n",
       "      <td>0.0</td>\n",
       "      <td>0.395868</td>\n",
       "    </tr>\n",
       "    <tr>\n",
       "      <th>1</th>\n",
       "      <td>0.027132</td>\n",
       "      <td>0.0</td>\n",
       "      <td>0.393388</td>\n",
       "    </tr>\n",
       "    <tr>\n",
       "      <th>2</th>\n",
       "      <td>0.011628</td>\n",
       "      <td>0.0</td>\n",
       "      <td>0.461983</td>\n",
       "    </tr>\n",
       "    <tr>\n",
       "      <th>3</th>\n",
       "      <td>0.009690</td>\n",
       "      <td>0.0</td>\n",
       "      <td>0.485950</td>\n",
       "    </tr>\n",
       "    <tr>\n",
       "      <th>4</th>\n",
       "      <td>0.000000</td>\n",
       "      <td>0.0</td>\n",
       "      <td>0.503306</td>\n",
       "    </tr>\n",
       "    <tr>\n",
       "      <th>...</th>\n",
       "      <td>...</td>\n",
       "      <td>...</td>\n",
       "      <td>...</td>\n",
       "    </tr>\n",
       "    <tr>\n",
       "      <th>4494</th>\n",
       "      <td>0.968992</td>\n",
       "      <td>0.4</td>\n",
       "      <td>0.883471</td>\n",
       "    </tr>\n",
       "    <tr>\n",
       "      <th>4495</th>\n",
       "      <td>0.970930</td>\n",
       "      <td>0.4</td>\n",
       "      <td>0.881818</td>\n",
       "    </tr>\n",
       "    <tr>\n",
       "      <th>4496</th>\n",
       "      <td>0.965116</td>\n",
       "      <td>0.4</td>\n",
       "      <td>0.886777</td>\n",
       "    </tr>\n",
       "    <tr>\n",
       "      <th>4497</th>\n",
       "      <td>0.963178</td>\n",
       "      <td>0.4</td>\n",
       "      <td>0.890909</td>\n",
       "    </tr>\n",
       "    <tr>\n",
       "      <th>4498</th>\n",
       "      <td>0.967054</td>\n",
       "      <td>0.4</td>\n",
       "      <td>0.898347</td>\n",
       "    </tr>\n",
       "  </tbody>\n",
       "</table>\n",
       "<p>4499 rows × 3 columns</p>\n",
       "</div>"
      ],
      "text/plain": [
       "      SLUR RATE  PROP CON  TR PRESS\n",
       "0      0.027132       0.0  0.395868\n",
       "1      0.027132       0.0  0.393388\n",
       "2      0.011628       0.0  0.461983\n",
       "3      0.009690       0.0  0.485950\n",
       "4      0.000000       0.0  0.503306\n",
       "...         ...       ...       ...\n",
       "4494   0.968992       0.4  0.883471\n",
       "4495   0.970930       0.4  0.881818\n",
       "4496   0.965116       0.4  0.886777\n",
       "4497   0.963178       0.4  0.890909\n",
       "4498   0.967054       0.4  0.898347\n",
       "\n",
       "[4499 rows x 3 columns]"
      ]
     },
     "execution_count": 8,
     "metadata": {},
     "output_type": "execute_result"
    }
   ],
   "source": [
    "scaler=MinMaxScaler()\n",
    "training_data1= scaler.fit_transform(training_data)\n",
    "pd.DataFrame(training_data1,columns=training_data.columns)\n"
   ]
  },
  {
   "cell_type": "code",
   "execution_count": 9,
   "metadata": {},
   "outputs": [],
   "source": [
    "X_train= []\n",
    "y_train= []\n",
    "for i in range(90,training_data1.shape[0]):\n",
    "    X_train.append(training_data1[i-90:i])\n",
    "    y_train.append(training_data1[i,2])\n"
   ]
  },
  {
   "cell_type": "code",
   "execution_count": 10,
   "metadata": {},
   "outputs": [
    {
     "data": {
      "text/plain": [
       "((4409, 90, 3), (4409,))"
      ]
     },
     "execution_count": 10,
     "metadata": {},
     "output_type": "execute_result"
    }
   ],
   "source": [
    "X_train, y_train = np.array(X_train), np.array(y_train)\n",
    "X_train.shape, y_train.shape"
   ]
  },
  {
   "cell_type": "code",
   "execution_count": 11,
   "metadata": {},
   "outputs": [],
   "source": [
    "from tensorflow.keras import Sequential\n",
    "from tensorflow.keras.layers import Dense,LSTM, Dropout\n",
    "import tensorflow as tf\n",
    "import random as python_random"
   ]
  },
  {
   "cell_type": "code",
   "execution_count": 12,
   "metadata": {},
   "outputs": [],
   "source": [
    "def reset_seeds():\n",
    "    np.random.seed(100) \n",
    "    python_random.seed(100)\n",
    "    tf.random.set_seed(100)\n",
    "\n",
    "reset_seeds() \n",
    "\n",
    "Frac_LSTM = Sequential()\n",
    "\n",
    "Frac_LSTM.add(LSTM(units=200, activation='relu', return_sequences=True, input_shape=(X_train.shape[1],3)))\n",
    "Frac_LSTM.add(Dropout(0.3))\n",
    "\n",
    "Frac_LSTM.add(LSTM(units=200, activation='relu', return_sequences=True))\n",
    "Frac_LSTM.add(Dropout(0.3))\n",
    "\n",
    "\n",
    "Frac_LSTM.add(LSTM(units=200, activation='relu'))\n",
    "Frac_LSTM.add(Dropout(0.3))\n",
    "\n",
    "Frac_LSTM.add(Dense(units=1))"
   ]
  },
  {
   "cell_type": "code",
   "execution_count": 13,
   "metadata": {},
   "outputs": [
    {
     "name": "stdout",
     "output_type": "stream",
     "text": [
      "Model: \"sequential\"\n",
      "_________________________________________________________________\n",
      "Layer (type)                 Output Shape              Param #   \n",
      "=================================================================\n",
      "lstm (LSTM)                  (None, 90, 200)           163200    \n",
      "_________________________________________________________________\n",
      "dropout (Dropout)            (None, 90, 200)           0         \n",
      "_________________________________________________________________\n",
      "lstm_1 (LSTM)                (None, 90, 200)           320800    \n",
      "_________________________________________________________________\n",
      "dropout_1 (Dropout)          (None, 90, 200)           0         \n",
      "_________________________________________________________________\n",
      "lstm_2 (LSTM)                (None, 200)               320800    \n",
      "_________________________________________________________________\n",
      "dropout_2 (Dropout)          (None, 200)               0         \n",
      "_________________________________________________________________\n",
      "dense (Dense)                (None, 1)                 201       \n",
      "=================================================================\n",
      "Total params: 805,001\n",
      "Trainable params: 805,001\n",
      "Non-trainable params: 0\n",
      "_________________________________________________________________\n"
     ]
    }
   ],
   "source": [
    "Frac_LSTM.summary()"
   ]
  },
  {
   "cell_type": "code",
   "execution_count": 14,
   "metadata": {},
   "outputs": [],
   "source": [
    "Frac_LSTM.compile(optimizer='adam', loss='mean_squared_error')"
   ]
  },
  {
   "cell_type": "code",
   "execution_count": 15,
   "metadata": {},
   "outputs": [
    {
     "name": "stdout",
     "output_type": "stream",
     "text": [
      "Epoch 1/10\n",
      "138/138 [==============================] - 74s 539ms/step - loss: 0.0834\n",
      "Epoch 2/10\n",
      "138/138 [==============================] - 46s 336ms/step - loss: 0.0076\n",
      "Epoch 3/10\n",
      "138/138 [==============================] - 39s 285ms/step - loss: 0.0070\n",
      "Epoch 4/10\n",
      "138/138 [==============================] - 38s 274ms/step - loss: 0.0061\n",
      "Epoch 5/10\n",
      "138/138 [==============================] - 36s 264ms/step - loss: 0.0056\n",
      "Epoch 6/10\n",
      "138/138 [==============================] - 36s 261ms/step - loss: 0.0055\n",
      "Epoch 7/10\n",
      "138/138 [==============================] - 36s 261ms/step - loss: 0.0053\n",
      "Epoch 8/10\n",
      "138/138 [==============================] - 36s 261ms/step - loss: 0.0052\n",
      "Epoch 9/10\n",
      "138/138 [==============================] - 38s 272ms/step - loss: 0.0042\n",
      "Epoch 10/10\n",
      "138/138 [==============================] - 37s 269ms/step - loss: 0.0043\n"
     ]
    }
   ],
   "source": [
    "history=Frac_LSTM.fit(X_train,y_train, epochs=10, batch_size=32, shuffle=True)"
   ]
  },
  {
   "cell_type": "code",
   "execution_count": 19,
   "metadata": {},
   "outputs": [
    {
     "data": {
      "text/html": [
       "<div>\n",
       "<style scoped>\n",
       "    .dataframe tbody tr th:only-of-type {\n",
       "        vertical-align: middle;\n",
       "    }\n",
       "\n",
       "    .dataframe tbody tr th {\n",
       "        vertical-align: top;\n",
       "    }\n",
       "\n",
       "    .dataframe thead th {\n",
       "        text-align: right;\n",
       "    }\n",
       "</style>\n",
       "<table border=\"1\" class=\"dataframe\">\n",
       "  <thead>\n",
       "    <tr style=\"text-align: right;\">\n",
       "      <th></th>\n",
       "      <th>SLUR RATE</th>\n",
       "      <th>PROP CON</th>\n",
       "      <th>TR PRESS</th>\n",
       "    </tr>\n",
       "  </thead>\n",
       "  <tbody>\n",
       "    <tr>\n",
       "      <th>0</th>\n",
       "      <td>49.4</td>\n",
       "      <td>0.0</td>\n",
       "      <td>8560</td>\n",
       "    </tr>\n",
       "    <tr>\n",
       "      <th>1</th>\n",
       "      <td>50.1</td>\n",
       "      <td>0.0</td>\n",
       "      <td>8537</td>\n",
       "    </tr>\n",
       "    <tr>\n",
       "      <th>2</th>\n",
       "      <td>50.1</td>\n",
       "      <td>0.0</td>\n",
       "      <td>8534</td>\n",
       "    </tr>\n",
       "    <tr>\n",
       "      <th>3</th>\n",
       "      <td>49.3</td>\n",
       "      <td>0.0</td>\n",
       "      <td>8617</td>\n",
       "    </tr>\n",
       "    <tr>\n",
       "      <th>4</th>\n",
       "      <td>49.2</td>\n",
       "      <td>0.0</td>\n",
       "      <td>8646</td>\n",
       "    </tr>\n",
       "    <tr>\n",
       "      <th>...</th>\n",
       "      <td>...</td>\n",
       "      <td>...</td>\n",
       "      <td>...</td>\n",
       "    </tr>\n",
       "    <tr>\n",
       "      <th>4595</th>\n",
       "      <td>99.1</td>\n",
       "      <td>1.0</td>\n",
       "      <td>9194</td>\n",
       "    </tr>\n",
       "    <tr>\n",
       "      <th>4596</th>\n",
       "      <td>99.0</td>\n",
       "      <td>1.0</td>\n",
       "      <td>9201</td>\n",
       "    </tr>\n",
       "    <tr>\n",
       "      <th>4597</th>\n",
       "      <td>99.0</td>\n",
       "      <td>1.0</td>\n",
       "      <td>9184</td>\n",
       "    </tr>\n",
       "    <tr>\n",
       "      <th>4598</th>\n",
       "      <td>99.3</td>\n",
       "      <td>1.0</td>\n",
       "      <td>9178</td>\n",
       "    </tr>\n",
       "    <tr>\n",
       "      <th>4599</th>\n",
       "      <td>99.0</td>\n",
       "      <td>1.0</td>\n",
       "      <td>9188</td>\n",
       "    </tr>\n",
       "  </tbody>\n",
       "</table>\n",
       "<p>4600 rows × 3 columns</p>\n",
       "</div>"
      ],
      "text/plain": [
       "      SLUR RATE  PROP CON  TR PRESS\n",
       "0          49.4       0.0      8560\n",
       "1          50.1       0.0      8537\n",
       "2          50.1       0.0      8534\n",
       "3          49.3       0.0      8617\n",
       "4          49.2       0.0      8646\n",
       "...         ...       ...       ...\n",
       "4595       99.1       1.0      9194\n",
       "4596       99.0       1.0      9201\n",
       "4597       99.0       1.0      9184\n",
       "4598       99.3       1.0      9178\n",
       "4599       99.0       1.0      9188\n",
       "\n",
       "[4600 rows x 3 columns]"
      ]
     },
     "execution_count": 19,
     "metadata": {},
     "output_type": "execute_result"
    }
   ],
   "source": [
    "df_testing.head()\n",
    "past_90_secs= df_training.tail(90)\n",
    "df1=past_90_secs.append(df_testing,ignore_index=True)\n",
    "df1=df.drop(['Time'], axis=1)\n",
    "df1"
   ]
  },
  {
   "cell_type": "code",
   "execution_count": 24,
   "metadata": {},
   "outputs": [
    {
     "data": {
      "text/plain": [
       "4600"
      ]
     },
     "execution_count": 24,
     "metadata": {},
     "output_type": "execute_result"
    }
   ],
   "source": [
    "testing_inputs= scaler.transform(df1)\n",
    "X_test=[]\n",
    "y_test=[]\n",
    "testing_inputs.shape[0]"
   ]
  },
  {
   "cell_type": "code",
   "execution_count": 25,
   "metadata": {},
   "outputs": [
    {
     "data": {
      "text/plain": [
       "((4510, 90, 3), (4510,))"
      ]
     },
     "execution_count": 25,
     "metadata": {},
     "output_type": "execute_result"
    }
   ],
   "source": [
    "for i in range(90,testing_inputs.shape[0]):\n",
    "    X_test.append(testing_inputs[i-90:i])\n",
    "    y_test.append(testing_inputs[i,2])\n",
    "    \n",
    "X_test, y_test= np.array(X_test), np.array(y_test)\n",
    "\n",
    "X_test.shape, y_test.shape\n"
   ]
  },
  {
   "cell_type": "code",
   "execution_count": 26,
   "metadata": {},
   "outputs": [
    {
     "data": {
      "text/html": [
       "<div>\n",
       "<style scoped>\n",
       "    .dataframe tbody tr th:only-of-type {\n",
       "        vertical-align: middle;\n",
       "    }\n",
       "\n",
       "    .dataframe tbody tr th {\n",
       "        vertical-align: top;\n",
       "    }\n",
       "\n",
       "    .dataframe thead th {\n",
       "        text-align: right;\n",
       "    }\n",
       "</style>\n",
       "<table border=\"1\" class=\"dataframe\">\n",
       "  <thead>\n",
       "    <tr style=\"text-align: right;\">\n",
       "      <th></th>\n",
       "      <th>Predicted TR PRESS</th>\n",
       "    </tr>\n",
       "  </thead>\n",
       "  <tbody>\n",
       "    <tr>\n",
       "      <th>0</th>\n",
       "      <td>0.782775</td>\n",
       "    </tr>\n",
       "    <tr>\n",
       "      <th>1</th>\n",
       "      <td>0.785105</td>\n",
       "    </tr>\n",
       "    <tr>\n",
       "      <th>2</th>\n",
       "      <td>0.788413</td>\n",
       "    </tr>\n",
       "    <tr>\n",
       "      <th>3</th>\n",
       "      <td>0.792357</td>\n",
       "    </tr>\n",
       "    <tr>\n",
       "      <th>4</th>\n",
       "      <td>0.796649</td>\n",
       "    </tr>\n",
       "  </tbody>\n",
       "</table>\n",
       "</div>"
      ],
      "text/plain": [
       "   Predicted TR PRESS\n",
       "0            0.782775\n",
       "1            0.785105\n",
       "2            0.788413\n",
       "3            0.792357\n",
       "4            0.796649"
      ]
     },
     "execution_count": 26,
     "metadata": {},
     "output_type": "execute_result"
    }
   ],
   "source": [
    "y_pred=Frac_LSTM.predict(X_test)\n",
    "y_pred=pd.DataFrame(y_pred,columns=['Predicted TR PRESS'])\n",
    "y_pred.head()\n"
   ]
  },
  {
   "cell_type": "code",
   "execution_count": 27,
   "metadata": {},
   "outputs": [
    {
     "data": {
      "text/html": [
       "<div>\n",
       "<style scoped>\n",
       "    .dataframe tbody tr th:only-of-type {\n",
       "        vertical-align: middle;\n",
       "    }\n",
       "\n",
       "    .dataframe tbody tr th {\n",
       "        vertical-align: top;\n",
       "    }\n",
       "\n",
       "    .dataframe thead th {\n",
       "        text-align: right;\n",
       "    }\n",
       "</style>\n",
       "<table border=\"1\" class=\"dataframe\">\n",
       "  <thead>\n",
       "    <tr style=\"text-align: right;\">\n",
       "      <th></th>\n",
       "      <th>Predicted TR PRESS</th>\n",
       "    </tr>\n",
       "  </thead>\n",
       "  <tbody>\n",
       "    <tr>\n",
       "      <th>count</th>\n",
       "      <td>4510.000000</td>\n",
       "    </tr>\n",
       "    <tr>\n",
       "      <th>mean</th>\n",
       "      <td>0.800455</td>\n",
       "    </tr>\n",
       "    <tr>\n",
       "      <th>std</th>\n",
       "      <td>0.091251</td>\n",
       "    </tr>\n",
       "    <tr>\n",
       "      <th>min</th>\n",
       "      <td>0.203487</td>\n",
       "    </tr>\n",
       "    <tr>\n",
       "      <th>25%</th>\n",
       "      <td>0.728425</td>\n",
       "    </tr>\n",
       "    <tr>\n",
       "      <th>50%</th>\n",
       "      <td>0.816010</td>\n",
       "    </tr>\n",
       "    <tr>\n",
       "      <th>75%</th>\n",
       "      <td>0.882054</td>\n",
       "    </tr>\n",
       "    <tr>\n",
       "      <th>max</th>\n",
       "      <td>0.922453</td>\n",
       "    </tr>\n",
       "  </tbody>\n",
       "</table>\n",
       "</div>"
      ],
      "text/plain": [
       "       Predicted TR PRESS\n",
       "count         4510.000000\n",
       "mean             0.800455\n",
       "std              0.091251\n",
       "min              0.203487\n",
       "25%              0.728425\n",
       "50%              0.816010\n",
       "75%              0.882054\n",
       "max              0.922453"
      ]
     },
     "execution_count": 27,
     "metadata": {},
     "output_type": "execute_result"
    }
   ],
   "source": [
    "y_pred.describe()"
   ]
  },
  {
   "cell_type": "code",
   "execution_count": 29,
   "metadata": {},
   "outputs": [],
   "source": [
    "y_pred['Predicted TR PRESS']=y_pred['Predicted TR PRESS']*(df['TR PRESS'].max()-df['TR PRESS'].min())+(df['TR PRESS'].min())\n"
   ]
  },
  {
   "cell_type": "code",
   "execution_count": 30,
   "metadata": {},
   "outputs": [
    {
     "data": {
      "text/html": [
       "<div>\n",
       "<style scoped>\n",
       "    .dataframe tbody tr th:only-of-type {\n",
       "        vertical-align: middle;\n",
       "    }\n",
       "\n",
       "    .dataframe tbody tr th {\n",
       "        vertical-align: top;\n",
       "    }\n",
       "\n",
       "    .dataframe thead th {\n",
       "        text-align: right;\n",
       "    }\n",
       "</style>\n",
       "<table border=\"1\" class=\"dataframe\">\n",
       "  <thead>\n",
       "    <tr style=\"text-align: right;\">\n",
       "      <th></th>\n",
       "      <th>Actual TR PRESS</th>\n",
       "    </tr>\n",
       "  </thead>\n",
       "  <tbody>\n",
       "    <tr>\n",
       "      <th>0</th>\n",
       "      <td>9062.0</td>\n",
       "    </tr>\n",
       "    <tr>\n",
       "      <th>1</th>\n",
       "      <td>9055.0</td>\n",
       "    </tr>\n",
       "    <tr>\n",
       "      <th>2</th>\n",
       "      <td>9054.0</td>\n",
       "    </tr>\n",
       "    <tr>\n",
       "      <th>3</th>\n",
       "      <td>9059.0</td>\n",
       "    </tr>\n",
       "    <tr>\n",
       "      <th>4</th>\n",
       "      <td>9052.0</td>\n",
       "    </tr>\n",
       "  </tbody>\n",
       "</table>\n",
       "</div>"
      ],
      "text/plain": [
       "   Actual TR PRESS\n",
       "0           9062.0\n",
       "1           9055.0\n",
       "2           9054.0\n",
       "3           9059.0\n",
       "4           9052.0"
      ]
     },
     "execution_count": 30,
     "metadata": {},
     "output_type": "execute_result"
    }
   ],
   "source": [
    "y_test=pd.DataFrame(y_test,columns=['Actual TR PRESS'])\n",
    "y_test['Actual TR PRESS']=y_test['Actual TR PRESS']*(df['TR PRESS'].max()-df['TR PRESS'].min())+(df['TR PRESS'].min())\n",
    "y_test.head()"
   ]
  },
  {
   "cell_type": "code",
   "execution_count": 31,
   "metadata": {},
   "outputs": [
    {
     "data": {
      "text/plain": [
       "0    9005.158203\n",
       "1    9007.976562\n",
       "2    9011.979492\n",
       "3    9016.751953\n",
       "4    9021.944336\n",
       "Name: Predicted TR PRESS, dtype: float32"
      ]
     },
     "execution_count": 31,
     "metadata": {},
     "output_type": "execute_result"
    }
   ],
   "source": [
    "y_pred['Predicted TR PRESS'].head()"
   ]
  },
  {
   "cell_type": "code",
   "execution_count": 32,
   "metadata": {},
   "outputs": [
    {
     "data": {
      "text/plain": [
       "<matplotlib.legend.Legend at 0x24bb61ff408>"
      ]
     },
     "execution_count": 32,
     "metadata": {},
     "output_type": "execute_result"
    },
    {
     "data": {
      "image/png": "[encoded data removed]",
      "text/plain": [
       "<Figure size 1008x360 with 1 Axes>"
      ]
     },
     "metadata": {
      "needs_background": "light"
     },
     "output_type": "display_data"
    }
   ],
   "source": [
    "plt.figure(figsize=(14,5))\n",
    "plt.plot(y_test, color='red', label='Actual TR PRESS')\n",
    "plt.plot(y_pred['Predicted TR PRESS'], color='blue', label='Predicted TR PRESS')\n",
    "plt.title('Frac Treating Pressure Actual Vs. Prediction')\n",
    "plt.xlabel('Time (seconds)')\n",
    "plt.ylabel('Surface Treating Pressure (psi)')\n",
    "plt.legend()"
   ]
  },
  {
   "cell_type": "code",
   "execution_count": 33,
   "metadata": {},
   "outputs": [],
   "source": [
    "import pypandoc"
   ]
  },
  {
   "cell_type": "code",
   "execution_count": 34,
   "metadata": {},
   "outputs": [
    {
     "name": "stderr",
     "output_type": "stream",
     "text": [
      "C:\\Users\\aashr\\.conda\\envs\\tf\\lib\\site-packages\\ipykernel_launcher.py:1: DeprecationWarning: Due to possible ambiguity, 'convert()' is deprecated. Use 'convert_file()'  or 'convert_text()'.\n",
      "  \"\"\"Entry point for launching an IPython kernel.\n"
     ]
    },
    {
     "data": {
      "text/plain": [
       "''"
      ]
     },
     "execution_count": 34,
     "metadata": {},
     "output_type": "execute_result"
    }
   ],
   "source": [
    "pypandoc.convert('Assignment 15.md','docx',outputfile='Assigment 15.docx')"
   ]
  },
  {
   "cell_type": "code",
   "execution_count": null,
   "metadata": {},
   "outputs": [],
   "source": []
  }
 ],
 "metadata": {
  "kernelspec": {
   "display_name": "Python 3",
   "language": "python",
   "name": "python3"
  },
  "language_info": {
   "codemirror_mode": {
    "name": "ipython",
    "version": 3
   },
   "file_extension": ".py",
   "mimetype": "text/x-python",
   "name": "python",
   "nbconvert_exporter": "python",
   "pygments_lexer": "ipython3",
   "version": "3.7.6"
  }
 },
 "nbformat": 4,
 "nbformat_minor": 4
}
